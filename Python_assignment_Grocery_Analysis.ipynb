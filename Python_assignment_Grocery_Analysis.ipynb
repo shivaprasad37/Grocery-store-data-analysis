{
 "cells": [
  {
   "cell_type": "code",
   "execution_count": 1,
   "metadata": {
    "id": "OBF0Quv3mbGO"
   },
   "outputs": [],
   "source": [
    "# Price Data\n",
    "\n",
    "item_dict = {'almonds': 6,\n",
    " 'antioxidant juice': 9,\n",
    " 'avocado': 1,\n",
    " 'black tea': 4,\n",
    " 'burgers': 4,\n",
    " 'champagne': 3,\n",
    " 'chicken': 4,\n",
    " 'chocolate': 7,\n",
    " 'chutney': 7,\n",
    " 'cookies': 7,\n",
    " 'cooking oil': 7,\n",
    " 'cottage cheese': 9,\n",
    " 'eggs': 9,\n",
    " 'energy bar': 9,\n",
    " 'energy drink': 3,\n",
    " 'extra dark chocolate': 8,\n",
    " 'french fries': 7,\n",
    " 'fresh tuna': 9,\n",
    " 'frozen smoothie': 7,\n",
    " 'frozen vegetables': 2,\n",
    " 'green grapes': 8,\n",
    " 'green tea': 8,\n",
    " 'honey': 9,\n",
    " 'light cream': 5,\n",
    " 'low fat yogurt': 4,\n",
    " 'meatballs': 9,\n",
    " 'milk': 5,\n",
    " 'mineral water': 2,\n",
    " 'oil': 9,\n",
    " 'olive oil': 8,\n",
    " 'pet food': 3,\n",
    " 'protein bar': 1,\n",
    " 'salad': 7,\n",
    " 'salmon': 3,\n",
    " 'shallot': 6,\n",
    " 'shrimp': 2,\n",
    " 'soup': 2,\n",
    " 'spaghetti': 6,\n",
    " 'spinach': 7,\n",
    " 'tomato juice': 8,\n",
    " 'tomatoes': 5,\n",
    " 'turkey': 8,\n",
    " 'vegetables mix': 3,\n",
    " 'whole wheat flour': 5,\n",
    " 'whole wheat pasta': 5,\n",
    " 'whole wheat rice': 4,\n",
    " 'yams': 7}"
   ]
  },
  {
   "cell_type": "code",
   "execution_count": 2,
   "metadata": {
    "id": "_uutgZt4mcgz"
   },
   "outputs": [],
   "source": [
    "# transaction data\n",
    "\n",
    "transaction_data = \\\n",
    "[['shrimp', 'almonds', 'avocado', 'vegetables mix', 'green grapes', 'whole wheat flour', 'yams', 'cottage cheese', 'energy drink', 'tomato juice', 'low fat yogurt', 'green tea', 'honey', 'salad', 'mineral water', 'salmon', 'antioxidant juice', 'frozen smoothie', 'spinach', 'olive oil'],\n",
    "['burgers', 'meatballs', 'eggs'],\n",
    "['chutney'],\n",
    "['turkey', 'avocado'],\n",
    "['mineral water', 'milk', 'energy bar', 'whole wheat rice', 'green tea'],\n",
    "['low fat yogurt'],\n",
    "['whole wheat pasta', 'french fries'],\n",
    "['soup', 'light cream', 'shallot'],\n",
    "['frozen vegetables', 'spaghetti', 'green tea'],\n",
    "['french fries'],\n",
    "['eggs', 'pet food'],\n",
    "['cookies'],\n",
    "['turkey', 'burgers', 'mineral water', 'eggs', 'cooking oil'],\n",
    "['spaghetti', 'champagne', 'cookies'],\n",
    "['mineral water', 'salmon'],\n",
    "['mineral water'],\n",
    "['shrimp', 'chocolate', 'chicken', 'honey', 'oil', 'cooking oil', 'low fat yogurt'],\n",
    "['turkey', 'eggs'],\n",
    "['turkey', 'fresh tuna', 'tomatoes', 'spaghetti', 'mineral water', 'black tea', 'salmon', 'eggs', 'chicken', 'extra dark chocolate'],\n",
    "['meatballs', 'milk', 'honey', 'french fries', 'protein bar']]"
   ]
  },
  {
   "cell_type": "raw",
   "metadata": {
    "id": "lTmOHxeVmjt0"
   },
   "source": [
    "\"\"\"\n",
    "Q1. Based on customer demand, items keep changing in the store. Your first task is to create a function that lets the admin add or remove items from the store directory(Cost dictionary).\n",
    "\n",
    "The code should help admin to accomplish the following tasks:\n",
    "1. Find how many unique items are present in the data?  (Hint: It will correspond to the number of key pairs in the Cost dictionary)\n",
    "\"\"\"\n"
   ]
  },
  {
   "cell_type": "code",
   "execution_count": 3,
   "metadata": {},
   "outputs": [
    {
     "name": "stdout",
     "output_type": "stream",
     "text": [
      "47\n"
     ]
    }
   ],
   "source": [
    "unique_items = len(item_dict.items())\n",
    "print(unique_items)"
   ]
  },
  {
   "cell_type": "markdown",
   "metadata": {},
   "source": [
    "2. Find the total number of transactions?"
   ]
  },
  {
   "cell_type": "code",
   "execution_count": 4,
   "metadata": {},
   "outputs": [
    {
     "name": "stdout",
     "output_type": "stream",
     "text": [
      "20\n"
     ]
    }
   ],
   "source": [
    "total_transaction = len(transaction_data)\n",
    "print(total_transaction)"
   ]
  },
  {
   "cell_type": "markdown",
   "metadata": {},
   "source": [
    "3. Add items, try adding the item “banana” in stores. The cost of this item is $5. Add the item “banana” to the Cost dictionary. "
   ]
  },
  {
   "cell_type": "code",
   "execution_count": 5,
   "metadata": {},
   "outputs": [],
   "source": [
    "item_dict['banana'] = 5"
   ]
  },
  {
   "cell_type": "markdown",
   "metadata": {},
   "source": [
    "4. Use a function named add_item( ) to automatically add an item to the Cost dictionary given its name and price.\n"
   ]
  },
  {
   "cell_type": "code",
   "execution_count": 6,
   "metadata": {},
   "outputs": [],
   "source": [
    "def add_item(name, price):\n",
    "    item_dict[name] = price"
   ]
  },
  {
   "cell_type": "markdown",
   "metadata": {},
   "source": [
    "5) Remove an item: for example: if the customers at Walmart do not seem to be purchasing “banana,” and the store decides to discontinue this item. The function to should be able to remove the item “banana” from the Cost dictionary\n",
    " Create a function called remove_item( ) to automatically remove an item from the Cost dictionary given its name."
   ]
  },
  {
   "cell_type": "code",
   "execution_count": 7,
   "metadata": {},
   "outputs": [],
   "source": [
    "def remove_item(name):\n",
    "    #Check if the name is present in the cost dictionary\n",
    "    if name in item_dict.keys():\n",
    "        del item_dict[name]"
   ]
  },
  {
   "cell_type": "markdown",
   "metadata": {},
   "source": [
    "Q2. Once a customer has completed shopping, they need to be billed for the total amount of all the items. \n",
    "This can be done automatically by swiping each item’s barcode on a checkout system. \n",
    "Your second task is to build the software underlying the checkout system, \n",
    "which finds the total cost of all the items in a customer’s cart, including taxes:\n",
    "\n",
    "* Write the code, to find the price of an item from the cost dictionary\n",
    "\n",
    "    *Find the price of salmon from the cost dictionary"
   ]
  },
  {
   "cell_type": "code",
   "execution_count": 8,
   "metadata": {},
   "outputs": [
    {
     "name": "stdout",
     "output_type": "stream",
     "text": [
      "3\n"
     ]
    }
   ],
   "source": [
    "def find_cost(name):\n",
    "    #Check if the name is present in the cost dictionary\n",
    "    if name in item_dict.keys():\n",
    "        return item_dict[name]\n",
    "    else:\n",
    "        #If the name specified is not present in the cost dictionary return None\n",
    "        return None\n",
    "\n",
    "cost = find_cost('salmon')\n",
    "print(cost)"
   ]
  },
  {
   "cell_type": "markdown",
   "metadata": {},
   "source": [
    "Write a code that helps the administrator find any particular transaction in the sequence\n",
    "    Try finding the ninth transaction from the data\n",
    " "
   ]
  },
  {
   "cell_type": "code",
   "execution_count": 9,
   "metadata": {},
   "outputs": [
    {
     "data": {
      "text/plain": [
       "['frozen vegetables', 'spaghetti', 'green tea']"
      ]
     },
     "execution_count": 9,
     "metadata": {},
     "output_type": "execute_result"
    }
   ],
   "source": [
    "def find_transaction(id):\n",
    "     #Check if the id is with-in the range of total number of transaction data\n",
    "    if id <= len(transaction_data):\n",
    "        return transaction_data[id - 1]\n",
    "    else:\n",
    "        #if the id given excceds the total number of transactions the retuen None\n",
    "        return None\n",
    "    \n",
    "find_transaction(9)"
   ]
  },
  {
   "cell_type": "markdown",
   "metadata": {},
   "source": [
    "How many items are present in the ninth transaction?"
   ]
  },
  {
   "cell_type": "code",
   "execution_count": 10,
   "metadata": {},
   "outputs": [
    {
     "name": "stdout",
     "output_type": "stream",
     "text": [
      "3\n"
     ]
    }
   ],
   "source": [
    "number_of_items_transaction_9 = len(find_transaction(9))\n",
    "print(number_of_items_transaction_9)"
   ]
  },
  {
   "cell_type": "markdown",
   "metadata": {},
   "source": [
    "Find the total cost of the ninth transaction from the array of transactions.\n",
    "Example: Input: [‘avocado’, ‘chutney’, ‘cookies’], Output: 15"
   ]
  },
  {
   "cell_type": "code",
   "execution_count": 11,
   "metadata": {},
   "outputs": [
    {
     "name": "stdout",
     "output_type": "stream",
     "text": [
      "16\n"
     ]
    }
   ],
   "source": [
    "def cost_of_transaction(id):\n",
    "    transaction = find_transaction(id)\n",
    "    if transaction:\n",
    "        cost = 0\n",
    "        #Calculate cost of the complete transaction\n",
    "        for ele in transaction:\n",
    "            cost = cost + item_dict[ele]\n",
    "    \n",
    "        return cost\n",
    "\n",
    "total_cost = cost_of_transaction(9)\n",
    "print(total_cost)"
   ]
  },
  {
   "cell_type": "markdown",
   "metadata": {},
   "source": [
    "As per government guidelines, a mandatory 5% tax is applied to the total cost of a transaction. Find the final price of the second transaction after applicable taxes have been implemented."
   ]
  },
  {
   "cell_type": "code",
   "execution_count": 12,
   "metadata": {},
   "outputs": [
    {
     "name": "stdout",
     "output_type": "stream",
     "text": [
      "23.1\n"
     ]
    }
   ],
   "source": [
    "tax = 5/100\n",
    "#Calculation total amount by adding cost to the tax for the cost.\n",
    "gross_total = cost_of_transaction(2) +  cost_of_transaction(2)*tax\n",
    "print(gross_total)"
   ]
  },
  {
   "cell_type": "markdown",
   "metadata": {},
   "source": [
    "Create a function named find_total( ) to find the final price of any transaction after applicable taxes have been implemented."
   ]
  },
  {
   "cell_type": "code",
   "execution_count": 13,
   "metadata": {},
   "outputs": [
    {
     "data": {
      "text/plain": [
       "23.1"
      ]
     },
     "execution_count": 13,
     "metadata": {},
     "output_type": "execute_result"
    }
   ],
   "source": [
    "def find_total(id):\n",
    "    cost = cost_of_transaction(id)\n",
    "    #if cost is a non zero number\n",
    "    if cost:\n",
    "        tax_on_cost = (5/100)*(cost)\n",
    "        return cost + tax_on_cost\n",
    "\n",
    "find_total(2)"
   ]
  },
  {
   "cell_type": "markdown",
   "metadata": {},
   "source": [
    "Q3. There is always a flow of items in and out of stores, which need to be tracked so that the store can place an order in case an item is running out of stock. Your third task is to build an inventory management system that will count the total number of items purchased from the transaction data. This inventory management system will go through each of the transactions one by one and increment the value for an item if it is found in a transaction."
   ]
  },
  {
   "cell_type": "markdown",
   "metadata": {},
   "source": [
    "What is the data structure that can be used to count the frequency of items purchased (from the transaction data)?"
   ]
  },
  {
   "cell_type": "markdown",
   "metadata": {},
   "source": [
    "Solution:  Dictionary can be used to have a key value pair of item and its corresponding count."
   ]
  },
  {
   "cell_type": "markdown",
   "metadata": {},
   "source": [
    "Create a frequency counter to count the number of items:"
   ]
  },
  {
   "cell_type": "code",
   "execution_count": 14,
   "metadata": {},
   "outputs": [
    {
     "name": "stdout",
     "output_type": "stream",
     "text": [
      "{'shrimp': 2, 'almonds': 1, 'avocado': 2, 'vegetables mix': 1, 'green grapes': 1, 'whole wheat flour': 1, 'yams': 1, 'cottage cheese': 1, 'energy drink': 1, 'tomato juice': 1, 'low fat yogurt': 3, 'green tea': 3, 'honey': 3, 'salad': 1, 'mineral water': 6, 'salmon': 3, 'antioxidant juice': 1, 'frozen smoothie': 1, 'spinach': 1, 'olive oil': 1, 'burgers': 2, 'meatballs': 2, 'eggs': 5, 'chutney': 1, 'turkey': 4, 'milk': 2, 'energy bar': 1, 'whole wheat rice': 1, 'whole wheat pasta': 1, 'french fries': 3, 'soup': 1, 'light cream': 1, 'shallot': 1, 'frozen vegetables': 1, 'spaghetti': 3, 'pet food': 1, 'cookies': 2, 'cooking oil': 2, 'champagne': 1, 'chocolate': 1, 'chicken': 2, 'oil': 1, 'fresh tuna': 1, 'tomatoes': 1, 'black tea': 1, 'extra dark chocolate': 1, 'protein bar': 1}\n"
     ]
    }
   ],
   "source": [
    "frequency_dict = {} \n",
    "\n",
    "\n",
    "for lists in transaction_data:\n",
    "    for data in lists:\n",
    "        if data in frequency_dict.keys():\n",
    "            frequency_dict[data] = frequency_dict[data] + 1\n",
    "        else:\n",
    "            frequency_dict[data] = 1\n",
    "\n",
    "print(frequency_dict)"
   ]
  },
  {
   "cell_type": "markdown",
   "metadata": {},
   "source": [
    "A new transaction has just been made. This transaction includes “honey,” “pet food,” and “shrimp.” Update the frequency counter to reflect this new transaction."
   ]
  },
  {
   "cell_type": "code",
   "execution_count": 15,
   "metadata": {},
   "outputs": [
    {
     "name": "stdout",
     "output_type": "stream",
     "text": [
      "{'shrimp': 3, 'almonds': 1, 'avocado': 2, 'vegetables mix': 1, 'green grapes': 1, 'whole wheat flour': 1, 'yams': 1, 'cottage cheese': 1, 'energy drink': 1, 'tomato juice': 1, 'low fat yogurt': 3, 'green tea': 3, 'honey': 4, 'salad': 1, 'mineral water': 6, 'salmon': 3, 'antioxidant juice': 1, 'frozen smoothie': 1, 'spinach': 1, 'olive oil': 1, 'burgers': 2, 'meatballs': 2, 'eggs': 5, 'chutney': 1, 'turkey': 4, 'milk': 2, 'energy bar': 1, 'whole wheat rice': 1, 'whole wheat pasta': 1, 'french fries': 3, 'soup': 1, 'light cream': 1, 'shallot': 1, 'frozen vegetables': 1, 'spaghetti': 3, 'pet food': 2, 'cookies': 2, 'cooking oil': 2, 'champagne': 1, 'chocolate': 1, 'chicken': 2, 'oil': 1, 'fresh tuna': 1, 'tomatoes': 1, 'black tea': 1, 'extra dark chocolate': 1, 'protein bar': 1}\n"
     ]
    }
   ],
   "source": [
    "transaction_new = [\"honey\", \"pet food\", \"shrimp\"]\n",
    "\n",
    "for val in transaction_new:\n",
    "    #validate if val is present in frequency_dict\n",
    "    if val in frequency_dict.keys():\n",
    "        frequency_dict[val] = frequency_dict[val] + 1\n",
    "    else:\n",
    "        #this means val is not present in the dictionary as a key\n",
    "        frequency_dict[val] = 1\n",
    "\n",
    "        \n",
    "print(frequency_dict)"
   ]
  },
  {
   "cell_type": "markdown",
   "metadata": {},
   "source": [
    "Create a function named update_counter( ) to automatically update the frequency counter in case any new transaction is made."
   ]
  },
  {
   "cell_type": "code",
   "execution_count": 16,
   "metadata": {},
   "outputs": [
    {
     "name": "stdout",
     "output_type": "stream",
     "text": [
      "{'shrimp': 4, 'almonds': 1, 'avocado': 2, 'vegetables mix': 1, 'green grapes': 1, 'whole wheat flour': 1, 'yams': 1, 'cottage cheese': 1, 'energy drink': 1, 'tomato juice': 1, 'low fat yogurt': 3, 'green tea': 3, 'honey': 5, 'salad': 1, 'mineral water': 6, 'salmon': 3, 'antioxidant juice': 1, 'frozen smoothie': 1, 'spinach': 1, 'olive oil': 1, 'burgers': 2, 'meatballs': 2, 'eggs': 5, 'chutney': 1, 'turkey': 4, 'milk': 2, 'energy bar': 1, 'whole wheat rice': 1, 'whole wheat pasta': 1, 'french fries': 3, 'soup': 1, 'light cream': 1, 'shallot': 1, 'frozen vegetables': 1, 'spaghetti': 3, 'pet food': 3, 'cookies': 2, 'cooking oil': 2, 'champagne': 1, 'chocolate': 1, 'chicken': 2, 'oil': 1, 'fresh tuna': 1, 'tomatoes': 1, 'black tea': 1, 'extra dark chocolate': 1, 'protein bar': 1}\n"
     ]
    }
   ],
   "source": [
    "transaction_new = [\"honey\", \"pet food\", \"shrimp\"]\n",
    "\n",
    "def  update_counter(transaction_new):\n",
    "    for val in transaction_new:\n",
    "         #validate if val is present in frequency_dict\n",
    "        if val in frequency_dict.keys():\n",
    "            frequency_dict[val] = frequency_dict[val] + 1\n",
    "        else:\n",
    "            #this means val is not present in the dictionary as a key\n",
    "            frequency_dict[val] = 1\n",
    "\n",
    "update_counter(transaction_new)\n",
    "\n",
    "print(frequency_dict)"
   ]
  },
  {
   "cell_type": "markdown",
   "metadata": {},
   "source": [
    "Walmart is running a discount week for Christmas! The sales manager has decided to keep a 20% discount on the top three selling items. Use the frequency counter that you created in Question 3 to solve this problem:"
   ]
  },
  {
   "cell_type": "markdown",
   "metadata": {},
   "source": [
    "What is the top-selling item?"
   ]
  },
  {
   "cell_type": "code",
   "execution_count": 17,
   "metadata": {},
   "outputs": [
    {
     "name": "stdout",
     "output_type": "stream",
     "text": [
      "mineral water\n"
     ]
    }
   ],
   "source": [
    "top_selling_element = max(zip(frequency_dict.values(),frequency_dict.keys()))[1]\n",
    "print(top_selling_element)\n"
   ]
  },
  {
   "cell_type": "markdown",
   "metadata": {},
   "source": [
    "In real life, departmental stores have thousands of items and millions of transactions in their databases. In such situations, it becomes important to use an effective searching algorithm to navigate through the data. You need to sort the frequency counter dictionary by the value count(or the number of items). For example, if there are 3 apples, 5 bananas and 1 watermelon, the sorted list would be banana, apple, watermelon. So you need to sort the entire dictionary (with keys and values) based on the value count. Sort the frequency counter using the sorting algorithms provided in the table below. Additionally, for each of the sorting methods, leverage the time function in Python to see how many milliseconds it takes for an algorithm to sort items."
   ]
  },
  {
   "cell_type": "code",
   "execution_count": 18,
   "metadata": {},
   "outputs": [
    {
     "name": "stdout",
     "output_type": "stream",
     "text": [
      "merge sort time is     0.0000000000\n",
      "insertion sort time is 0.0000000000\n",
      "selection sort time is 0.0000000000 \n"
     ]
    }
   ],
   "source": [
    "import time\n",
    "\n",
    "\n",
    "def merge(lst, l, m, r):\n",
    "    n1 = m - l + 1\n",
    "    n2 = r - m\n",
    " \n",
    "    # create temp lists\n",
    "    L = [0] * (n1)\n",
    "    R = [0] * (n2)\n",
    " \n",
    "    # Copy data to temp Lists L[] and R[]\n",
    "    for i in range(0, n1):\n",
    "        L[i] = lst[l + i]\n",
    " \n",
    "    for j in range(0, n2):\n",
    "        R[j] = lst[m + 1 + j]\n",
    " \n",
    "    # Merge the temp Lists back into lst[l..r]\n",
    "    i = 0     # Initial index of first list\n",
    "    j = 0     # Initial index of second list\n",
    "    k = l     # Initial index of merged list\n",
    " \n",
    "    while i < n1 and j < n2:\n",
    "        if L[i][1] <= R[j][1]:\n",
    "            lst[k] = L[i]\n",
    "            i += 1\n",
    "        else:\n",
    "            lst[k] = R[j]\n",
    "            j += 1\n",
    "        k += 1\n",
    " \n",
    "    # Copy the remaining elements of L[], if there\n",
    "    # are any\n",
    "    while i < n1:\n",
    "        lst[k] = L[i]\n",
    "        i += 1\n",
    "        k += 1\n",
    " \n",
    "    # Copy the remaining elements of R[], if there\n",
    "    # are any\n",
    "    while j < n2:\n",
    "        lst[k] = R[j]\n",
    "        j += 1\n",
    "        k += 1\n",
    " \n",
    "\n",
    " \n",
    "def mergeSort(lst, l, r):\n",
    "    if l < r:\n",
    " \n",
    "        # Same as (l+r)//2, but avoids overflow for\n",
    "        # large l and h\n",
    "        m = l+(r-l)//2\n",
    " \n",
    "        # Sort first and second halves\n",
    "        mergeSort(lst, l, m)\n",
    "        mergeSort(lst, m+1, r)\n",
    "        merge(lst, l, m, r)\n",
    "\n",
    "def insertionSort(lst):\n",
    "  \n",
    "    # Traverse through 1 to len(arr)\n",
    "    for i in range(1, len(lst)):\n",
    "  \n",
    "        key = lst[i]\n",
    "  \n",
    "        # Move elements of lst[0..i-1], that are\n",
    "        # greater than key, to one position ahead\n",
    "        # of their current position\n",
    "        j = i-1\n",
    "        while j >=0 and key[1] < lst[j][1] :\n",
    "                lst[j+1] = lst[j]\n",
    "                j -= 1\n",
    "        lst[j+1] = key\n",
    "\n",
    "def SelectionSort(L):\n",
    "    \n",
    "    for i in range(len(L)):\n",
    "      \n",
    "    # Find the minimum element in remaining \n",
    "    # unsorted \n",
    "        min_idx = i\n",
    "        for j in range(i+1, len(L)):\n",
    "            if L[min_idx][1] > L[j][1]:\n",
    "                min_idx = j\n",
    "              \n",
    "        # Swap the found minimum element with \n",
    "        # the first element        \n",
    "        L[i], L[min_idx] = L[min_idx], L[i]\n",
    "\n",
    "#Taking avaerage of these many samples\n",
    "average_of = 5\n",
    "        \n",
    "merge_sort_time = []\n",
    "\n",
    "#convert the items in tuples to list of tuples\n",
    "merge_sort_items = list(frequency_dict.items())\n",
    "\n",
    "'''for loop to run and store the samples to \n",
    "take an average to present a optimum figure'''\n",
    "for i in range(average_of):\n",
    "    \n",
    "    #begin the time to start calculating the time taken by the algorithm\n",
    "    begin = time.time()\n",
    "    #Call the function\n",
    "    mergeSort(merge_sort_items,0, len(merge_sort_items) -1)\n",
    "    #end the time started to calculate the algorithm processing time.\n",
    "    end = time.time()\n",
    "    #now calculate the total time by subtracting begin from end\n",
    "    merge_sort_time.append(end - begin)\n",
    "\n",
    "#print the average of all the time calculated\n",
    "print(\"merge sort time is     %1.10f\" %(sum(merge_sort_time)/len(merge_sort_time)))\n",
    "\n",
    "insertion_sort_time = []\n",
    "\n",
    "#convert the items in tuples to list of tuples\n",
    "insertion_sort_items = list(frequency_dict.items())\n",
    "'''for loop to run and store the samples to \n",
    "take an average to present a optimum figure'''\n",
    "for i in range(average_of):\n",
    "     \n",
    "    #begin the time to start calculating the time taken by the algorithm\n",
    "    begin = time.time()\n",
    "    #Call the function\n",
    "    insertionSort(insertion_sort_items)\n",
    "    #end the time started to calculate the algorithm processing time.\n",
    "    end = time.time()\n",
    "     #now calculate the total time by subtracting begin from end\n",
    "    insertion_sort_time.append(end - begin)\n",
    "\n",
    "#print the average of all the time calculated\n",
    "print(\"insertion sort time is %1.10f\" %(sum(insertion_sort_time)/len(insertion_sort_time)))\n",
    "\n",
    "selection_sort_items = list(frequency_dict.items())\n",
    "\n",
    "\n",
    "selection_sort_time =[]\n",
    "'''for loop to run and store the samples to \n",
    "take an average to present a optimum figure'''\n",
    "for i in range(average_of):\n",
    "    #begin the time to start calculating the time taken by the algorithm\n",
    "    begin = time.time()    \n",
    "    #Call the function\n",
    "    SelectionSort(selection_sort_items)\n",
    "    #end the time started to calculate the algorithm processing time.\n",
    "    end = time.time()\n",
    "     #now calculate the total time by subtracting begin from end\n",
    "    selection_sort_time.append(end - begin)\n",
    "\n",
    "#print the average of all the time calculated\n",
    "print(\"selection sort time is %1.10f \" %(sum(selection_sort_time)/len(selection_sort_time) ))\n"
   ]
  },
  {
   "cell_type": "markdown",
   "metadata": {},
   "source": [
    "Rank the sorting algorithms in order of the time they take to sort items."
   ]
  },
  {
   "cell_type": "markdown",
   "metadata": {},
   "source": [
    "\n",
    "The following was the time taken deduced from the above program:\n",
    "\n",
    "merge sort time is     0.0000000001\n",
    "insertion sort time is 0.0001984596\n",
    "selection sort time is 0.0004080772\n",
    "\n",
    "\n",
    "So the rank of sorting algorithms is:\n",
    "1. Merge\n",
    "2. Insertion\n",
    "3. Selection "
   ]
  }
 ],
 "metadata": {
  "colab": {
   "name": "Data.ipynb",
   "provenance": []
  },
  "kernelspec": {
   "display_name": "Python 3",
   "language": "python",
   "name": "python3"
  },
  "language_info": {
   "codemirror_mode": {
    "name": "ipython",
    "version": 3
   },
   "file_extension": ".py",
   "mimetype": "text/x-python",
   "name": "python",
   "nbconvert_exporter": "python",
   "pygments_lexer": "ipython3",
   "version": "3.7.6"
  }
 },
 "nbformat": 4,
 "nbformat_minor": 1
}
